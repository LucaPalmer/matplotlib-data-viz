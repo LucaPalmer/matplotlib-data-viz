{
 "cells": [
  {
   "cell_type": "code",
   "execution_count": null,
   "id": "guilty-marsh",
   "metadata": {},
   "outputs": [],
   "source": [
    "import numpy as np\n",
    "import pandas as pd\n",
    "import matplotlib.pyplot as plt \n",
    "\n",
    "df = pd.read_csv('/home/luca/Dropbox/Data Science (Coventry)/emission data.csv')"
   ]
  },
  {
   "cell_type": "code",
   "execution_count": null,
   "id": "split-forestry",
   "metadata": {},
   "outputs": [],
   "source": [
    "pd.set_option(\"display.max_rows\", 100)\n",
    "pd.set_option('display.max_columns', 100)\n",
    "pd.set_option('display.width', 100)"
   ]
  },
  {
   "cell_type": "code",
   "execution_count": null,
   "id": "superior-oliver",
   "metadata": {},
   "outputs": [],
   "source": [
    "#df.iloc[0:10, 247:280]"
   ]
  },
  {
   "cell_type": "code",
   "execution_count": null,
   "id": "annoying-october",
   "metadata": {},
   "outputs": [],
   "source": [
    "emission_df = df.loc[0:232] \n",
    "\n",
    "emission_df"
   ]
  },
  {
   "cell_type": "code",
   "execution_count": null,
   "id": "native-console",
   "metadata": {},
   "outputs": [],
   "source": [
    "world_emission_df = df.iloc[227]\n",
    "\n",
    "world_emission_df = pd.DataFrame(world_emission_df)\n",
    "\n",
    "world_emission_df\n",
    "\n",
    "world_emission_df = world_emission_df.drop(['Country'])"
   ]
  },
  {
   "cell_type": "code",
   "execution_count": null,
   "id": "local-miami",
   "metadata": {},
   "outputs": [],
   "source": [
    "world_emission_df['Year'] = world_emission_df.index\n",
    "\n",
    "world_emission_df = world_emission_df.reset_index()\n",
    "\n",
    "world_emission_df.columns = ['Index', 'Emission', 'Year']\n",
    "\n",
    "world_emission_df = world_emission_df.drop('Index', axis=1)\n",
    "\n",
    "world_emission_df = world_emission_df.reindex(columns = ['Year', 'Emission'])\n",
    "\n",
    "world_emission_df"
   ]
  },
  {
   "cell_type": "markdown",
   "id": "separated-northeast",
   "metadata": {},
   "source": [
    "Area chart created using Pandas and matplotlib below. This graph was created using a collection of functions called 'Pyplot'. Creating plots with Pyplot is faster than using vanilla matplotlib, and it allows for directly plot Pandas dataframes with ease."
   ]
  },
  {
   "cell_type": "code",
   "execution_count": null,
   "id": "revised-reynolds",
   "metadata": {},
   "outputs": [],
   "source": [
    "world_emission_chart = world_emission_df.plot('Year', 'Emission', kind='area', color='green', alpha=0.7, \n",
    "title='Global Greenhouse Gas Emissions 1751 - 2017', ylabel='Gas Emission (Tonnes)')"
   ]
  },
  {
   "cell_type": "markdown",
   "id": "effective-float",
   "metadata": {},
   "source": [
    "Instead of plotting directly from a Pandas dataframe, using matplotlib, we can also use NumPy arrays to plot a graph."
   ]
  },
  {
   "cell_type": "code",
   "execution_count": null,
   "id": "unauthorized-property",
   "metadata": {},
   "outputs": [],
   "source": [
    "x = world_emission_df['Year'].to_numpy()\n",
    "y = world_emission_df['Emission'].to_numpy()\n",
    "\n",
    "\n",
    "#Taken from Stack Overflow, pyplot expects float inputs from NumPy arrau\n",
    "x = np.array(x, dtype = float)\n",
    "y = np.array(y, dtype = float)"
   ]
  },
  {
   "cell_type": "code",
   "execution_count": null,
   "id": "excellent-integrity",
   "metadata": {},
   "outputs": [],
   "source": [
    "plt.fill_between(x, y, color = 'green', alpha = 0.4)\n",
    "plt.plot(x, y, color = 'green', alpha = 0.6)\n",
    "plt.style.use('fivethirtyeight')\n",
    "\n",
    "#plt.title('Global Greenhouse Gas Emissions 1751 - 2017')\n",
    "plt.xlabel('Year')\n",
    "plt.ylabel('Gas Emission (Tonnes)')\n",
    "plt.title('Global Greenhouse Gas Emissions 1751 - 2017', loc = 'right', fontsize=12.5)\n",
    "\n",
    "plt.show()"
   ]
  },
  {
   "cell_type": "markdown",
   "id": "complete-energy",
   "metadata": {},
   "source": []
  }
 ],
 "metadata": {
  "kernelspec": {
   "display_name": "Python 3",
   "language": "python",
   "name": "python3"
  },
  "language_info": {
   "codemirror_mode": {
    "name": "ipython",
    "version": 3
   },
   "file_extension": ".py",
   "mimetype": "text/x-python",
   "name": "python",
   "nbconvert_exporter": "python",
   "pygments_lexer": "ipython3",
   "version": "3.8.5"
  }
 },
 "nbformat": 4,
 "nbformat_minor": 5
}
