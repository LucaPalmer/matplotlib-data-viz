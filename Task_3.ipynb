{
 "cells": [
  {
   "cell_type": "code",
   "execution_count": null,
   "id": "needed-monaco",
   "metadata": {},
   "outputs": [],
   "source": [
    "'''TO DO:\n",
    "\n",
    "Create 3 Histograms (using different packages)\n",
    "Create 3 Density Plots (using different packages)\n",
    "\n",
    "'''"
   ]
  },
  {
   "cell_type": "code",
   "execution_count": null,
   "id": "undefined-islam",
   "metadata": {},
   "outputs": [],
   "source": [
    "import numpy as np\n",
    "import pandas as pd\n",
    "import matplotlib.pyplot as plt \n",
    "import seaborn as sns\n",
    "\n",
    "import plotnine as p9\n",
    "from plotnine import *\n",
    "\n",
    "from scipy.stats import gaussian_kde\n",
    "\n",
    "df = pd.read_csv('/home/luca/Dropbox/Data Science (Coventry)/emission data.csv')"
   ]
  },
  {
   "cell_type": "code",
   "execution_count": null,
   "id": "color-relationship",
   "metadata": {},
   "outputs": [],
   "source": [
    "pd.set_option(\"display.max_rows\", 200)\n",
    "pd.set_option('display.max_columns', 100)\n",
    "pd.set_option('display.width', 100)"
   ]
  },
  {
   "cell_type": "code",
   "execution_count": null,
   "id": "fixed-helena",
   "metadata": {},
   "outputs": [],
   "source": [
    "#df.iloc[0:10, 247:280]"
   ]
  },
  {
   "cell_type": "code",
   "execution_count": null,
   "id": "magnetic-proportion",
   "metadata": {},
   "outputs": [],
   "source": [
    "emission_df = df.loc[0:232] \n",
    "\n",
    "emission_df"
   ]
  },
  {
   "cell_type": "code",
   "execution_count": null,
   "id": "electronic-starter",
   "metadata": {},
   "outputs": [],
   "source": [
    "world_emission_df = df.iloc[227]\n",
    "\n",
    "world_emission_df = pd.DataFrame(world_emission_df)\n",
    "\n",
    "world_emission_df\n",
    "\n",
    "world_emission_df = world_emission_df.drop(['Country'])"
   ]
  },
  {
   "cell_type": "code",
   "execution_count": null,
   "id": "backed-distinction",
   "metadata": {},
   "outputs": [],
   "source": [
    "world_emission_df['Year'] = world_emission_df.index\n",
    "\n",
    "world_emission_df = world_emission_df.reset_index()\n",
    "\n",
    "world_emission_df.columns = ['Index', 'Emission', 'Year']\n",
    "\n",
    "world_emission_df = world_emission_df.drop('Index', axis=1)\n",
    "\n",
    "world_emission_df = world_emission_df.reindex(columns = ['Year', 'Emission'])\n",
    "\n",
    "world_emission_df"
   ]
  },
  {
   "cell_type": "markdown",
   "id": "arbitrary-lender",
   "metadata": {},
   "source": [
    "Area chart created using Pandas and matplotlib below. This graph was created using a collection of functions called 'Pyplot'. Creating plots with Pyplot is faster than using vanilla matplotlib, and it allows for directly plot Pandas dataframes with ease."
   ]
  },
  {
   "cell_type": "code",
   "execution_count": null,
   "id": "latter-campus",
   "metadata": {},
   "outputs": [],
   "source": [
    "world_emission_chart = world_emission_df.plot('Year', 'Emission', kind='area', color='green', alpha=0.7, \n",
    "title='Global Greenhouse Gas Emissions 1751 - 2017', ylabel='Gas Emission (Tonnes)')"
   ]
  },
  {
   "cell_type": "markdown",
   "id": "accessible-strand",
   "metadata": {},
   "source": [
    "Instead of plotting directly from a Pandas dataframe, using matplotlib, we can also use NumPy arrays to plot a graph."
   ]
  },
  {
   "cell_type": "code",
   "execution_count": null,
   "id": "healthy-metropolitan",
   "metadata": {},
   "outputs": [],
   "source": [
    "x = world_emission_df['Year'].to_numpy()\n",
    "y = world_emission_df['Emission'].to_numpy()\n",
    "\n",
    "\n",
    "#Taken from Stack Overflow, pyplot expects float inputs from NumPy array\n",
    "x = np.array(x, dtype = float)\n",
    "y = np.array(y, dtype = float)"
   ]
  },
  {
   "cell_type": "code",
   "execution_count": null,
   "id": "signal-exercise",
   "metadata": {},
   "outputs": [],
   "source": [
    "plt.fill_between(x, y, color = 'green', alpha = 0.4)\n",
    "plt.plot(x, y, color = 'green', alpha = 0.6)\n",
    "plt.style.use('fivethirtyeight')\n",
    "\n",
    "plt.xlabel('Year')\n",
    "plt.ylabel('Gas Emission (Tonnes)')\n",
    "plt.title('Global Greenhouse Gas Emissions 1751 - 2017', loc = 'right', fontsize=12.5)\n",
    "\n",
    "#plt.legend(loc = \"upper left\") #output: \"No handles with labels found to put in legend.\"\n",
    "\n",
    "plt.show()"
   ]
  },
  {
   "cell_type": "markdown",
   "id": "modified-chosen",
   "metadata": {},
   "source": [
    "The area plot above uses a different theme (fivethirtyeight) and also has a design that delivers a bolder line, while still maintaining the transparent fill that provides even more depth to the graph than the previous one.\n",
    "\n",
    "By opting not to use the NumPy array plotting method over the dataframe plotting method, the user is given more parameters to control the graph canvas and it's elements, even if the visuals are virtually unchanged. \n",
    "\n",
    "Below, I will use Seaborn to make multiple area charts in a singular graph:"
   ]
  },
  {
   "cell_type": "code",
   "execution_count": null,
   "id": "invalid-midnight",
   "metadata": {},
   "outputs": [],
   "source": [
    "df = emission_df.loc[emission_df['Country'].isin(['Asia and Pacific (other)', 'Canada', 'China', 'EU-28', 'Japan', 'Russia', 'United Kingdom', 'United States'])]"
   ]
  },
  {
   "cell_type": "code",
   "execution_count": null,
   "id": "coated-brooklyn",
   "metadata": {},
   "outputs": [],
   "source": [
    "column_list = df.columns.tolist() #change this\n",
    "column_list = column_list[1:247]\n",
    "\n",
    "df = df.loc[:, ~df.columns.isin(column_list)]\n",
    "\n",
    "#df.info"
   ]
  },
  {
   "cell_type": "code",
   "execution_count": null,
   "id": "standard-evolution",
   "metadata": {},
   "outputs": [],
   "source": [
    "#df['Country'] = df.index #DEFINE THE INDEX FIRST THEN MELT DF\n",
    "\n",
    "df = pd.melt(df, id_vars='Country', var_name='Year', value_name='Emission')\n",
    "\n",
    "df = df.sort_values('Year').reset_index(drop=True)"
   ]
  },
  {
   "cell_type": "code",
   "execution_count": null,
   "id": "broad-cathedral",
   "metadata": {},
   "outputs": [],
   "source": [
    "       \n",
    "graph = sns.FacetGrid(df, col='Country', hue='Country', col_wrap=3)\n",
    "\n",
    "graph = graph.map(plt.plot, 'Year', 'Emission')\n",
    "\n",
    "graph = graph.map(plt.fill_between, 'Year', 'Emission', alpha=0.4)\n",
    "\n",
    "graph = graph.set_titles(\"{col_name}\")\n",
    "\n",
    "graph = graph.set_xticklabels(size = 13, rotation = 45)"
   ]
  },
  {
   "cell_type": "markdown",
   "id": "disturbed-round",
   "metadata": {},
   "source": [
    "Below, I will use visualise the density of the most peculiar countries shown in the Seaborn visualisation above. "
   ]
  },
  {
   "cell_type": "code",
   "execution_count": null,
   "id": "exempt-economics",
   "metadata": {},
   "outputs": [],
   "source": [
    "china_df = df.loc[df['Country'] == 'China']\n",
    "us_df = df.loc[df['Country'] == 'United States']\n",
    "eu_df = df.loc[df['Country'] == 'EU-28']\n",
    "uk_df = df.loc[df['Country'] ==  'United Kingdom']\n",
    "\n",
    "density_df = [china_df, us_df, eu_df, uk_df]\n",
    "density_df = pd.concat(density_df)"
   ]
  },
  {
   "cell_type": "code",
   "execution_count": null,
   "id": "spread-moderator",
   "metadata": {},
   "outputs": [],
   "source": [
    "density = gaussian_kde(uk_df.Emission)\n",
    "density.covariance_factor = lambda : .65\n",
    "density._compute_covariance()\n",
    "\n",
    "vec = np.linspace(50000000000, 100000000000)\n",
    "\n",
    "plt.figure(figsize=(15, 8))\n",
    "plt.fill_between(vec, density(vec), color=\"#69b3a2\", alpha=0.7)\n",
    "plt.xlabel('Emission')\n",
    "plt.ylabel('Density')\n",
    "plt.title('UK Greenhouse Gas Emission Density Chart', loc = 'right', fontsize=16)\n",
    "\n",
    "plt.show()"
   ]
  },
  {
   "cell_type": "markdown",
   "id": "difficult-details",
   "metadata": {},
   "source": [
    "The graph above visualises the density of the Emission values for the United Kingdom. It was created using Matplotlib. Below I will now use Seaborn to visualise a different region. "
   ]
  },
  {
   "cell_type": "code",
   "execution_count": null,
   "id": "consecutive-badge",
   "metadata": {},
   "outputs": [],
   "source": [
    "sns.set_style('darkgrid')\n",
    "sns.kdeplot(china_df['Emission'], shade=True)\n",
    "plt.title('China Greenhouse Gas Emission Density Chart', loc = 'right', fontsize=14)\n",
    "\n",
    "plt.show()"
   ]
  },
  {
   "cell_type": "markdown",
   "id": "transparent-society",
   "metadata": {},
   "source": [
    "The code above visualises the density of emission values in China. It was created using Seaborn. Below I will now use Plotnine to plot the density of multiple regions on a single graph."
   ]
  },
  {
   "cell_type": "code",
   "execution_count": null,
   "id": "academic-chaos",
   "metadata": {},
   "outputs": [],
   "source": [
    "#FIX LABEL TICKS, ADD TITLE\n",
    "\n",
    "(\n",
    "    ggplot(density_df, aes(x='Emission', color='Country', fill='Country'))\n",
    "    + geom_density(aes(), alpha = 0.5)\n",
    ")\n",
    "\n"
   ]
  },
  {
   "cell_type": "markdown",
   "id": "cordless-wichita",
   "metadata": {},
   "source": [
    "I will now produce histograms to explore the density of the individual regions. "
   ]
  },
  {
   "cell_type": "code",
   "execution_count": null,
   "id": "sixth-wealth",
   "metadata": {},
   "outputs": [],
   "source": [
    "china_df.plot.hist()"
   ]
  },
  {
   "cell_type": "code",
   "execution_count": null,
   "id": "oriental-carnival",
   "metadata": {},
   "outputs": [],
   "source": [
    "sns.distplot(uk_df['Emission'], hist=True, kde=False, rug=False)"
   ]
  },
  {
   "cell_type": "code",
   "execution_count": null,
   "id": "foreign-lexington",
   "metadata": {},
   "outputs": [],
   "source": [
    "(\n",
    "    ggplot(density_df, aes(x='Emission', color='Country', fill='Country'))\n",
    "    + geom_histogram(aes(), alpha = 0.5)\n",
    ")"
   ]
  }
 ],
 "metadata": {
  "kernelspec": {
   "display_name": "Python 3",
   "language": "python",
   "name": "python3"
  },
  "language_info": {
   "codemirror_mode": {
    "name": "ipython",
    "version": 3
   },
   "file_extension": ".py",
   "mimetype": "text/x-python",
   "name": "python",
   "nbconvert_exporter": "python",
   "pygments_lexer": "ipython3",
   "version": "3.8.5"
  }
 },
 "nbformat": 4,
 "nbformat_minor": 5
}
