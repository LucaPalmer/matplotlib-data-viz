{
 "cells": [
  {
   "cell_type": "code",
   "execution_count": null,
   "id": "confident-partnership",
   "metadata": {},
   "outputs": [],
   "source": [
    "import numpy as np\n",
    "import pandas as pd\n",
    "import matplotlib.pyplot as plt \n",
    "import seaborn as sns\n",
    "\n",
    "df = pd.read_csv('/home/luca/Dropbox/Data Science (Coventry)/emission data.csv')"
   ]
  },
  {
   "cell_type": "code",
   "execution_count": null,
   "id": "unlike-oxford",
   "metadata": {},
   "outputs": [],
   "source": [
    "pd.set_option(\"display.max_rows\", 100)\n",
    "pd.set_option('display.max_columns', 100)\n",
    "pd.set_option('display.width', 100)"
   ]
  },
  {
   "cell_type": "code",
   "execution_count": null,
   "id": "dimensional-operator",
   "metadata": {},
   "outputs": [],
   "source": [
    "#df.iloc[0:10, 247:280]"
   ]
  },
  {
   "cell_type": "code",
   "execution_count": null,
   "id": "fancy-accent",
   "metadata": {},
   "outputs": [],
   "source": [
    "emission_df = df.loc[0:232] \n",
    "\n",
    "emission_df"
   ]
  },
  {
   "cell_type": "code",
   "execution_count": null,
   "id": "vanilla-round",
   "metadata": {},
   "outputs": [],
   "source": [
    "world_emission_df = df.iloc[227]\n",
    "\n",
    "world_emission_df = pd.DataFrame(world_emission_df)\n",
    "\n",
    "world_emission_df\n",
    "\n",
    "world_emission_df = world_emission_df.drop(['Country'])"
   ]
  },
  {
   "cell_type": "code",
   "execution_count": null,
   "id": "becoming-shannon",
   "metadata": {},
   "outputs": [],
   "source": [
    "world_emission_df['Year'] = world_emission_df.index\n",
    "\n",
    "world_emission_df = world_emission_df.reset_index()\n",
    "\n",
    "world_emission_df.columns = ['Index', 'Emission', 'Year']\n",
    "\n",
    "world_emission_df = world_emission_df.drop('Index', axis=1)\n",
    "\n",
    "world_emission_df = world_emission_df.reindex(columns = ['Year', 'Emission'])\n",
    "\n",
    "world_emission_df"
   ]
  },
  {
   "cell_type": "markdown",
   "id": "educational-aggregate",
   "metadata": {},
   "source": [
    "Area chart created using Pandas and matplotlib below. This graph was created using a collection of functions called 'Pyplot'. Creating plots with Pyplot is faster than using vanilla matplotlib, and it allows for directly plot Pandas dataframes with ease."
   ]
  },
  {
   "cell_type": "code",
   "execution_count": null,
   "id": "imperial-corpus",
   "metadata": {},
   "outputs": [],
   "source": [
    "world_emission_chart = world_emission_df.plot('Year', 'Emission', kind='area', color='green', alpha=0.7, \n",
    "title='Global Greenhouse Gas Emissions 1751 - 2017', ylabel='Gas Emission (Tonnes)')"
   ]
  },
  {
   "cell_type": "markdown",
   "id": "handmade-mills",
   "metadata": {},
   "source": [
    "Instead of plotting directly from a Pandas dataframe, using matplotlib, we can also use NumPy arrays to plot a graph."
   ]
  },
  {
   "cell_type": "code",
   "execution_count": null,
   "id": "deluxe-accommodation",
   "metadata": {},
   "outputs": [],
   "source": [
    "x = world_emission_df['Year'].to_numpy()\n",
    "y = world_emission_df['Emission'].to_numpy()\n",
    "\n",
    "\n",
    "#Taken from Stack Overflow, pyplot expects float inputs from NumPy arrau\n",
    "x = np.array(x, dtype = float)\n",
    "y = np.array(y, dtype = float)"
   ]
  },
  {
   "cell_type": "code",
   "execution_count": null,
   "id": "broken-lending",
   "metadata": {},
   "outputs": [],
   "source": [
    "plt.fill_between(x, y, color = 'green', alpha = 0.4)\n",
    "plt.plot(x, y, color = 'green', alpha = 0.6)\n",
    "plt.style.use('fivethirtyeight')\n",
    "\n",
    "#REMEMBER TO ADD LEGEND\n",
    "plt.xlabel('Year')\n",
    "plt.ylabel('Gas Emission (Tonnes)')\n",
    "plt.title('Global Greenhouse Gas Emissions 1751 - 2017', loc = 'right', fontsize=12.5)\n",
    "\n",
    "plt.show()"
   ]
  },
  {
   "cell_type": "markdown",
   "id": "structured-nepal",
   "metadata": {},
   "source": [
    "The area plot above uses a different theme (fivethirtyeight) and also has a design that delivers a bolder line, while still maintaining the transparent fill that provides even more depth to the graph than the previous one.\n",
    "\n",
    "Below, I will use Seaborn to make multiple graphs:"
   ]
  },
  {
   "cell_type": "code",
   "execution_count": null,
   "id": "electoral-hotel",
   "metadata": {},
   "outputs": [],
   "source": [
    "df = emission_df.loc[emission_df['Country'].isin(['Australia', 'Canada', 'China', 'Germany', 'Netherlands',\n",
    "'Hong Kong', 'Japan', 'North Korea', 'South Korea', 'United Kingdom', 'United States', \n",
    "'United Arab Emirates', 'Singapore'])]"
   ]
  },
  {
   "cell_type": "code",
   "execution_count": null,
   "id": "enabling-logging",
   "metadata": {},
   "outputs": [],
   "source": [
    "column_list = df.columns.tolist() #change this\n",
    "column_list = column_list[1:247]\n",
    "\n",
    "df = df.loc[:, ~df.columns.isin(column_list)]\n",
    "\n",
    "#df.info"
   ]
  },
  {
   "cell_type": "code",
   "execution_count": null,
   "id": "expected-scottish",
   "metadata": {},
   "outputs": [],
   "source": [
    "#df['Country'] = df.index #DEFINE THE INDEX FIRST THEN MELT DF\n",
    "\n",
    "df = pd.melt(df, id_vars='Country', var_name='Year', value_name='Emission')\n",
    "\n",
    "df = df.sort_values('Country').reset_index(drop=True)"
   ]
  },
  {
   "cell_type": "code",
   "execution_count": null,
   "id": "dramatic-oakland",
   "metadata": {},
   "outputs": [],
   "source": [
    "       \n",
    "graph = sns.FacetGrid(df, col='Country', hue='Country', col_wrap=3)\n",
    "\n",
    "graph = graph.map(plt.plot, 'Year', 'Emission')\n",
    "\n",
    "graph = graph.map(plt.fill_between, 'Year', 'Emission', alpha=0.4)\n",
    "\n",
    "graph = graph.set_titles(\"{col_name}\")\n",
    "\n",
    "graph = graph.set_xticklabels"
   ]
  },
  {
   "cell_type": "code",
   "execution_count": null,
   "id": "monthly-cream",
   "metadata": {},
   "outputs": [],
   "source": []
  },
  {
   "cell_type": "code",
   "execution_count": null,
   "id": "attended-footwear",
   "metadata": {},
   "outputs": [],
   "source": []
  }
 ],
 "metadata": {
  "kernelspec": {
   "display_name": "Python 3",
   "language": "python",
   "name": "python3"
  },
  "language_info": {
   "codemirror_mode": {
    "name": "ipython",
    "version": 3
   },
   "file_extension": ".py",
   "mimetype": "text/x-python",
   "name": "python",
   "nbconvert_exporter": "python",
   "pygments_lexer": "ipython3",
   "version": "3.8.5"
  }
 },
 "nbformat": 4,
 "nbformat_minor": 5
}
